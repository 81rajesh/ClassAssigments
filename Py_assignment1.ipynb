{
 "cells": [
  {
   "cell_type": "markdown",
   "id": "029f9a87",
   "metadata": {},
   "source": [
    "1. Find out all the types of error that we have encountered in our lecture and why? Also include the examples."
   ]
  },
  {
   "cell_type": "markdown",
   "id": "0a8fe14e",
   "metadata": {},
   "source": [
    "- Answer\n",
    "1. NameError : We have to write all the function names in defined format, variables in specified format. If we make mistake while writing functions or variable, python will give NameError"
   ]
  },
  {
   "cell_type": "code",
   "execution_count": 4,
   "id": "b3372c2e",
   "metadata": {},
   "outputs": [
    {
     "ename": "NameError",
     "evalue": "name 'Print' is not defined",
     "output_type": "error",
     "traceback": [
      "\u001b[1;31m---------------------------------------------------------------------------\u001b[0m",
      "\u001b[1;31mNameError\u001b[0m                                 Traceback (most recent call last)",
      "Input \u001b[1;32mIn [4]\u001b[0m, in \u001b[0;36m<cell line: 2>\u001b[1;34m()\u001b[0m\n\u001b[0;32m      1\u001b[0m \u001b[38;5;66;03m# Example\u001b[39;00m\n\u001b[1;32m----> 2\u001b[0m \u001b[43mPrint\u001b[49m(\u001b[38;5;124m\"\u001b[39m\u001b[38;5;124mHello World\u001b[39m\u001b[38;5;124m\"\u001b[39m)\n",
      "\u001b[1;31mNameError\u001b[0m: name 'Print' is not defined"
     ]
    }
   ],
   "source": [
    "# Example\n",
    "Print(\"Hello World\")"
   ]
  },
  {
   "cell_type": "code",
   "execution_count": 2,
   "id": "8565fb6f",
   "metadata": {},
   "outputs": [],
   "source": [
    "name=\"Rajesh\""
   ]
  },
  {
   "cell_type": "code",
   "execution_count": 3,
   "id": "3ac4055f",
   "metadata": {},
   "outputs": [
    {
     "ename": "NameError",
     "evalue": "name 'naem' is not defined",
     "output_type": "error",
     "traceback": [
      "\u001b[1;31m---------------------------------------------------------------------------\u001b[0m",
      "\u001b[1;31mNameError\u001b[0m                                 Traceback (most recent call last)",
      "Input \u001b[1;32mIn [3]\u001b[0m, in \u001b[0;36m<cell line: 1>\u001b[1;34m()\u001b[0m\n\u001b[1;32m----> 1\u001b[0m \u001b[43mnaem\u001b[49m\n",
      "\u001b[1;31mNameError\u001b[0m: name 'naem' is not defined"
     ]
    }
   ],
   "source": [
    "naem"
   ]
  },
  {
   "cell_type": "markdown",
   "id": "f721693a",
   "metadata": {},
   "source": [
    "2. SyntaxError: We have to write code in particular format. If we don't write code in particular format like if we forget any bracket in code python will give SyntaxError"
   ]
  },
  {
   "cell_type": "code",
   "execution_count": 6,
   "id": "bef5497d",
   "metadata": {},
   "outputs": [
    {
     "ename": "SyntaxError",
     "evalue": "unexpected EOF while parsing (2607196811.py, line 2)",
     "output_type": "error",
     "traceback": [
      "\u001b[1;36m  Input \u001b[1;32mIn [6]\u001b[1;36m\u001b[0m\n\u001b[1;33m    int(12\u001b[0m\n\u001b[1;37m          ^\u001b[0m\n\u001b[1;31mSyntaxError\u001b[0m\u001b[1;31m:\u001b[0m unexpected EOF while parsing\n"
     ]
    }
   ],
   "source": [
    "# Example\n",
    "int(12"
   ]
  },
  {
   "cell_type": "code",
   "execution_count": 7,
   "id": "83b45318",
   "metadata": {},
   "outputs": [
    {
     "ename": "SyntaxError",
     "evalue": "invalid syntax (3448225349.py, line 1)",
     "output_type": "error",
     "traceback": [
      "\u001b[1;36m  Input \u001b[1;32mIn [7]\u001b[1;36m\u001b[0m\n\u001b[1;33m    print(good morning)\u001b[0m\n\u001b[1;37m               ^\u001b[0m\n\u001b[1;31mSyntaxError\u001b[0m\u001b[1;31m:\u001b[0m invalid syntax\n"
     ]
    }
   ],
   "source": [
    "print(good morning)"
   ]
  },
  {
   "cell_type": "code",
   "execution_count": 8,
   "id": "b05b03d5",
   "metadata": {},
   "outputs": [
    {
     "ename": "SyntaxError",
     "evalue": "Missing parentheses in call to 'print'. Did you mean print(\"good morning\")? (2893841875.py, line 1)",
     "output_type": "error",
     "traceback": [
      "\u001b[1;36m  Input \u001b[1;32mIn [8]\u001b[1;36m\u001b[0m\n\u001b[1;33m    print \"good morning\"\u001b[0m\n\u001b[1;37m          ^\u001b[0m\n\u001b[1;31mSyntaxError\u001b[0m\u001b[1;31m:\u001b[0m Missing parentheses in call to 'print'. Did you mean print(\"good morning\")?\n"
     ]
    }
   ],
   "source": [
    "print \"good morning\""
   ]
  },
  {
   "cell_type": "code",
   "execution_count": 9,
   "id": "850a972b",
   "metadata": {},
   "outputs": [
    {
     "ename": "SyntaxError",
     "evalue": "EOL while scanning string literal (4114890425.py, line 1)",
     "output_type": "error",
     "traceback": [
      "\u001b[1;36m  Input \u001b[1;32mIn [9]\u001b[1;36m\u001b[0m\n\u001b[1;33m    print(\"Good\u001b[0m\n\u001b[1;37m               ^\u001b[0m\n\u001b[1;31mSyntaxError\u001b[0m\u001b[1;31m:\u001b[0m EOL while scanning string literal\n"
     ]
    }
   ],
   "source": [
    "print(\"Good\n",
    "      Morning\")"
   ]
  },
  {
   "cell_type": "code",
   "execution_count": 13,
   "id": "04144056",
   "metadata": {},
   "outputs": [
    {
     "ename": "SyntaxError",
     "evalue": "invalid syntax (1459202764.py, line 2)",
     "output_type": "error",
     "traceback": [
      "\u001b[1;36m  Input \u001b[1;32mIn [13]\u001b[1;36m\u001b[0m\n\u001b[1;33m    name* =10\u001b[0m\n\u001b[1;37m          ^\u001b[0m\n\u001b[1;31mSyntaxError\u001b[0m\u001b[1;31m:\u001b[0m invalid syntax\n"
     ]
    }
   ],
   "source": [
    "#python restricts to use some special characters\n",
    "name* =10"
   ]
  },
  {
   "cell_type": "markdown",
   "id": "f117a2ac",
   "metadata": {},
   "source": [
    "3. NameError: If we try to concatenate str data type with any other data type then python will give TypeError"
   ]
  },
  {
   "cell_type": "code",
   "execution_count": 15,
   "id": "c8fe4620",
   "metadata": {},
   "outputs": [
    {
     "ename": "TypeError",
     "evalue": "can only concatenate str (not \"int\") to str",
     "output_type": "error",
     "traceback": [
      "\u001b[1;31m---------------------------------------------------------------------------\u001b[0m",
      "\u001b[1;31mTypeError\u001b[0m                                 Traceback (most recent call last)",
      "Input \u001b[1;32mIn [15]\u001b[0m, in \u001b[0;36m<cell line: 1>\u001b[1;34m()\u001b[0m\n\u001b[1;32m----> 1\u001b[0m \u001b[38;5;124;43m\"\u001b[39;49m\u001b[38;5;124;43mrajesh\u001b[39;49m\u001b[38;5;124;43m\"\u001b[39;49m\u001b[38;5;241;43m+\u001b[39;49m\u001b[38;5;241;43m10\u001b[39;49m\n",
      "\u001b[1;31mTypeError\u001b[0m: can only concatenate str (not \"int\") to str"
     ]
    }
   ],
   "source": [
    "#Example\n",
    "rajesh\"+10"
   ]
  },
  {
   "cell_type": "markdown",
   "id": "7bf45b0c",
   "metadata": {},
   "source": [
    "4. ValueError: While convesion of data type, in the value for which we want to do convesrion, if we don't pass same value with same data type then python will give ValueError "
   ]
  },
  {
   "cell_type": "code",
   "execution_count": 19,
   "id": "f76064b3",
   "metadata": {},
   "outputs": [
    {
     "ename": "ValueError",
     "evalue": "invalid literal for int() with base 10: '12.5'",
     "output_type": "error",
     "traceback": [
      "\u001b[1;31m---------------------------------------------------------------------------\u001b[0m",
      "\u001b[1;31mValueError\u001b[0m                                Traceback (most recent call last)",
      "Input \u001b[1;32mIn [19]\u001b[0m, in \u001b[0;36m<cell line: 3>\u001b[1;34m()\u001b[0m\n\u001b[0;32m      1\u001b[0m \u001b[38;5;66;03m#Example\u001b[39;00m\n\u001b[0;32m      2\u001b[0m a\u001b[38;5;241m=\u001b[39m\u001b[38;5;124m\"\u001b[39m\u001b[38;5;124m12.5\u001b[39m\u001b[38;5;124m\"\u001b[39m\n\u001b[1;32m----> 3\u001b[0m b\u001b[38;5;241m=\u001b[39m\u001b[38;5;28;43mint\u001b[39;49m\u001b[43m(\u001b[49m\u001b[43ma\u001b[49m\u001b[43m)\u001b[49m\n",
      "\u001b[1;31mValueError\u001b[0m: invalid literal for int() with base 10: '12.5'"
     ]
    }
   ],
   "source": [
    "#Example\n",
    "a=\"12.5\"\n",
    "b=int(a)"
   ]
  },
  {
   "cell_type": "markdown",
   "id": "4f78d455",
   "metadata": {},
   "source": [
    "2. Take input A and B and print their sum, mul, div, square of the nos."
   ]
  },
  {
   "cell_type": "code",
   "execution_count": 22,
   "id": "b98b4fee",
   "metadata": {},
   "outputs": [
    {
     "name": "stdout",
     "output_type": "stream",
     "text": [
      "A:20\n",
      "B:5\n",
      "The sum of A and B is 25\n",
      "The multiplication of A and B is 100\n",
      "The division of A and B is 4.0\n",
      "The square of A  is 400\n"
     ]
    }
   ],
   "source": [
    "a=int(input(\"A:\"))\n",
    "b=int(input(\"B:\"))\n",
    "print(f\"The sum of A and B is {a+b}\")\n",
    "print(f\"The multiplication of A and B is {a*b}\")\n",
    "print(f\"The division of A and B is {a/b}\")\n",
    "print(f\"The square of A  is {a**2}\")"
   ]
  },
  {
   "cell_type": "markdown",
   "id": "c5177b92",
   "metadata": {},
   "source": [
    "3. How many reserve keywords are there in python and why we should not use them as a variable name."
   ]
  },
  {
   "cell_type": "markdown",
   "id": "912e2762",
   "metadata": {},
   "source": [
    "and\n",
    "del\n",
    "from\n",
    "not\n",
    "while    \n",
    "as\n",
    "elif\n",
    "global\n",
    "or\n",
    "with     \n",
    "assert\n",
    "else\n",
    "if\n",
    "pass\n",
    "yield    \n",
    "break\n",
    "except\n",
    "import \n",
    "print              \n",
    "class\n",
    "exec\n",
    "in\n",
    "raise              \n",
    "continue\n",
    "finally\n",
    "is\n",
    "return \n",
    "def    \n",
    "for\n",
    "lambda\n",
    "try"
   ]
  },
  {
   "cell_type": "markdown",
   "id": "1786d5ad",
   "metadata": {},
   "source": [
    "4. Create email ids with the user inputs. in the following format - lastname.firstname@gmail.com"
   ]
  },
  {
   "cell_type": "code",
   "execution_count": 24,
   "id": "0e688a8f",
   "metadata": {},
   "outputs": [
    {
     "name": "stdout",
     "output_type": "stream",
     "text": [
      "rajesh\n",
      "patil\n",
      "patil.rajesh@gmail.com\n"
     ]
    }
   ],
   "source": [
    "first_name=input()\n",
    "last_name=input()\n",
    "print(f\"{last_name}.{first_name}@gmail.com\")"
   ]
  },
  {
   "cell_type": "markdown",
   "id": "65fbe7a6",
   "metadata": {},
   "source": [
    "5. Try to print the following lines -\n",
    "- Hi I'm Sunny\n",
    "- My address is 22\\3\n",
    "- I earn 20$ daily."
   ]
  },
  {
   "cell_type": "code",
   "execution_count": 25,
   "id": "11041ae2",
   "metadata": {},
   "outputs": [
    {
     "name": "stdout",
     "output_type": "stream",
     "text": [
      "Hi I'm Sunny\n",
      "My address is 22/3\n",
      "I earn 20$ daily\n"
     ]
    }
   ],
   "source": [
    "print(\"\"\"Hi I'm Sunny\n",
    "My address is 22/3\n",
    "I earn 20$ daily\"\"\")"
   ]
  },
  {
   "cell_type": "markdown",
   "id": "961d8101",
   "metadata": {},
   "source": [
    "6. Take user input (name, address, date of birth etc) to fill a form for your college and print their email IDs"
   ]
  },
  {
   "cell_type": "code",
   "execution_count": 28,
   "id": "dfd822eb",
   "metadata": {},
   "outputs": [
    {
     "name": "stdout",
     "output_type": "stream",
     "text": [
      "Name: Rajesh\n",
      "Address: Alibag\n",
      "Date of Birth: 29/10/1995\n",
      "Rajesh@gmail.com\n"
     ]
    }
   ],
   "source": [
    "name= input(\"Name: \")\n",
    "address=input(\"Address: \")\n",
    "dob = input(\"Date of Birth: \")\n",
    "print(f\"{name}@gmail.com\")"
   ]
  },
  {
   "cell_type": "markdown",
   "id": "4bb4c40c",
   "metadata": {},
   "source": [
    "7. Convert the following -\n",
    "- \"22.4\" into integer\n",
    "- \"22\" into complex no."
   ]
  },
  {
   "cell_type": "code",
   "execution_count": 32,
   "id": "d4384ad3",
   "metadata": {},
   "outputs": [
    {
     "name": "stdout",
     "output_type": "stream",
     "text": [
      "Data type before:<class 'str'>\n",
      "Data type after:<class 'int'>\n"
     ]
    }
   ],
   "source": [
    "a=\"22.4\"\n",
    "print(f\"Data type before:{type(a)}\")\n",
    "a=int(float(a))\n",
    "print(f\"Data type after:{type(a)}\")"
   ]
  },
  {
   "cell_type": "code",
   "execution_count": 33,
   "id": "45f8eb08",
   "metadata": {},
   "outputs": [
    {
     "name": "stdout",
     "output_type": "stream",
     "text": [
      "Data type before:<class 'str'>\n",
      "Data type after:<class 'complex'>\n"
     ]
    }
   ],
   "source": [
    "a=\"22\"\n",
    "print(f\"Data type before:{type(a)}\")\n",
    "a=complex(int(a))\n",
    "print(f\"Data type after:{type(a)}\")"
   ]
  },
  {
   "cell_type": "code",
   "execution_count": null,
   "id": "837991e5",
   "metadata": {},
   "outputs": [],
   "source": []
  }
 ],
 "metadata": {
  "kernelspec": {
   "display_name": "Python 3 (ipykernel)",
   "language": "python",
   "name": "python3"
  },
  "language_info": {
   "codemirror_mode": {
    "name": "ipython",
    "version": 3
   },
   "file_extension": ".py",
   "mimetype": "text/x-python",
   "name": "python",
   "nbconvert_exporter": "python",
   "pygments_lexer": "ipython3",
   "version": "3.9.12"
  }
 },
 "nbformat": 4,
 "nbformat_minor": 5
}
